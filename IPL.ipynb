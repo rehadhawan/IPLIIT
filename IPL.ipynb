{
 "metadata": {
  "language_info": {
   "codemirror_mode": {
    "name": "ipython",
    "version": 3
   },
   "file_extension": ".py",
   "mimetype": "text/x-python",
   "name": "python",
   "nbconvert_exporter": "python",
   "pygments_lexer": "ipython3",
   "version": "3.8.3-final"
  },
  "orig_nbformat": 2,
  "kernelspec": {
   "name": "python383jvsc74a57bd0b3ba2566441a7c06988d0923437866b63cedc61552a5af99d1f4fb67d367b25f",
   "display_name": "Python 3.8.3 64-bit (conda)"
  }
 },
 "nbformat": 4,
 "nbformat_minor": 2,
 "cells": [
  {
   "source": [
    "Defining Path, loading data set and trimming to first six overs only\n"
   ],
   "cell_type": "markdown",
   "metadata": {}
  },
  {
   "source": [
    "import pandas as pd\n",
    "import numpy as np\n",
    "path = r\"C:\\Users\\reha_\\Desktop\\IPLIIT\\all_matches.csv\"\n",
    "df=pd.read_csv(path)\n",
    "#df = df[df[\"ball\"] < 6.0]\n",
    "df\n"
   ],
   "cell_type": "code",
   "metadata": {},
   "execution_count": 49,
   "outputs": [
    {
     "output_type": "stream",
     "name": "stderr",
     "text": [
      "C:\\ProgramData\\Anaconda3\\lib\\site-packages\\IPython\\core\\interactiveshell.py:3071: DtypeWarning: Columns (1) have mixed types.Specify dtype option on import or set low_memory=False.\n  has_raised = await self.run_ast_nodes(code_ast.body, cell_name,\n"
     ]
    },
    {
     "output_type": "execute_result",
     "data": {
      "text/plain": [
       "        match_id   season  start_date  \\\n",
       "0         335982  2007/08  18-04-2008   \n",
       "1         335982  2007/08  18-04-2008   \n",
       "2         335982  2007/08  18-04-2008   \n",
       "3         335982  2007/08  18-04-2008   \n",
       "4         335982  2007/08  18-04-2008   \n",
       "...          ...      ...         ...   \n",
       "194349   1254060     2021  11-04-2021   \n",
       "194350   1254060     2021  11-04-2021   \n",
       "194351   1254060     2021  11-04-2021   \n",
       "194352   1254060     2021  11-04-2021   \n",
       "194353   1254060     2021  11-04-2021   \n",
       "\n",
       "                                           venue  innings  ball  \\\n",
       "0                          M Chinnaswamy Stadium        1   0.1   \n",
       "1                          M Chinnaswamy Stadium        1   0.2   \n",
       "2                          M Chinnaswamy Stadium        1   0.3   \n",
       "3                          M Chinnaswamy Stadium        1   0.4   \n",
       "4                          M Chinnaswamy Stadium        1   0.5   \n",
       "...                                          ...      ...   ...   \n",
       "194349  MA Chidambaram Stadium, Chepauk, Chennai        2  19.2   \n",
       "194350  MA Chidambaram Stadium, Chepauk, Chennai        2  19.3   \n",
       "194351  MA Chidambaram Stadium, Chepauk, Chennai        2  19.4   \n",
       "194352  MA Chidambaram Stadium, Chepauk, Chennai        2  19.5   \n",
       "194353  MA Chidambaram Stadium, Chepauk, Chennai        2  19.6   \n",
       "\n",
       "                 batting_team                 bowling_team      striker  \\\n",
       "0       Kolkata Knight Riders  Royal Challengers Bangalore   SC Ganguly   \n",
       "1       Kolkata Knight Riders  Royal Challengers Bangalore  BB McCullum   \n",
       "2       Kolkata Knight Riders  Royal Challengers Bangalore  BB McCullum   \n",
       "3       Kolkata Knight Riders  Royal Challengers Bangalore  BB McCullum   \n",
       "4       Kolkata Knight Riders  Royal Challengers Bangalore  BB McCullum   \n",
       "...                       ...                          ...          ...   \n",
       "194349    Sunrisers Hyderabad        Kolkata Knight Riders  Abdul Samad   \n",
       "194350    Sunrisers Hyderabad        Kolkata Knight Riders  Abdul Samad   \n",
       "194351    Sunrisers Hyderabad        Kolkata Knight Riders    MK Pandey   \n",
       "194352    Sunrisers Hyderabad        Kolkata Knight Riders  Abdul Samad   \n",
       "194353    Sunrisers Hyderabad        Kolkata Knight Riders    MK Pandey   \n",
       "\n",
       "        non_striker  ... extras  wides  noballs  byes  legbyes  penalty  \\\n",
       "0       BB McCullum  ...      1    NaN      NaN   NaN      1.0      NaN   \n",
       "1        SC Ganguly  ...      0    NaN      NaN   NaN      NaN      NaN   \n",
       "2        SC Ganguly  ...      1    1.0      NaN   NaN      NaN      NaN   \n",
       "3        SC Ganguly  ...      0    NaN      NaN   NaN      NaN      NaN   \n",
       "4        SC Ganguly  ...      0    NaN      NaN   NaN      NaN      NaN   \n",
       "...             ...  ...    ...    ...      ...   ...      ...      ...   \n",
       "194349    MK Pandey  ...      0    NaN      NaN   NaN      NaN      NaN   \n",
       "194350    MK Pandey  ...      0    NaN      NaN   NaN      NaN      NaN   \n",
       "194351  Abdul Samad  ...      0    NaN      NaN   NaN      NaN      NaN   \n",
       "194352    MK Pandey  ...      0    NaN      NaN   NaN      NaN      NaN   \n",
       "194353  Abdul Samad  ...      0    NaN      NaN   NaN      NaN      NaN   \n",
       "\n",
       "        wicket_type  player_dismissed other_wicket_type other_player_dismissed  \n",
       "0               NaN               NaN               NaN                    NaN  \n",
       "1               NaN               NaN               NaN                    NaN  \n",
       "2               NaN               NaN               NaN                    NaN  \n",
       "3               NaN               NaN               NaN                    NaN  \n",
       "4               NaN               NaN               NaN                    NaN  \n",
       "...             ...               ...               ...                    ...  \n",
       "194349          NaN               NaN               NaN                    NaN  \n",
       "194350          NaN               NaN               NaN                    NaN  \n",
       "194351          NaN               NaN               NaN                    NaN  \n",
       "194352          NaN               NaN               NaN                    NaN  \n",
       "194353          NaN               NaN               NaN                    NaN  \n",
       "\n",
       "[194354 rows x 22 columns]"
      ],
      "text/html": "<div>\n<style scoped>\n    .dataframe tbody tr th:only-of-type {\n        vertical-align: middle;\n    }\n\n    .dataframe tbody tr th {\n        vertical-align: top;\n    }\n\n    .dataframe thead th {\n        text-align: right;\n    }\n</style>\n<table border=\"1\" class=\"dataframe\">\n  <thead>\n    <tr style=\"text-align: right;\">\n      <th></th>\n      <th>match_id</th>\n      <th>season</th>\n      <th>start_date</th>\n      <th>venue</th>\n      <th>innings</th>\n      <th>ball</th>\n      <th>batting_team</th>\n      <th>bowling_team</th>\n      <th>striker</th>\n      <th>non_striker</th>\n      <th>...</th>\n      <th>extras</th>\n      <th>wides</th>\n      <th>noballs</th>\n      <th>byes</th>\n      <th>legbyes</th>\n      <th>penalty</th>\n      <th>wicket_type</th>\n      <th>player_dismissed</th>\n      <th>other_wicket_type</th>\n      <th>other_player_dismissed</th>\n    </tr>\n  </thead>\n  <tbody>\n    <tr>\n      <th>0</th>\n      <td>335982</td>\n      <td>2007/08</td>\n      <td>18-04-2008</td>\n      <td>M Chinnaswamy Stadium</td>\n      <td>1</td>\n      <td>0.1</td>\n      <td>Kolkata Knight Riders</td>\n      <td>Royal Challengers Bangalore</td>\n      <td>SC Ganguly</td>\n      <td>BB McCullum</td>\n      <td>...</td>\n      <td>1</td>\n      <td>NaN</td>\n      <td>NaN</td>\n      <td>NaN</td>\n      <td>1.0</td>\n      <td>NaN</td>\n      <td>NaN</td>\n      <td>NaN</td>\n      <td>NaN</td>\n      <td>NaN</td>\n    </tr>\n    <tr>\n      <th>1</th>\n      <td>335982</td>\n      <td>2007/08</td>\n      <td>18-04-2008</td>\n      <td>M Chinnaswamy Stadium</td>\n      <td>1</td>\n      <td>0.2</td>\n      <td>Kolkata Knight Riders</td>\n      <td>Royal Challengers Bangalore</td>\n      <td>BB McCullum</td>\n      <td>SC Ganguly</td>\n      <td>...</td>\n      <td>0</td>\n      <td>NaN</td>\n      <td>NaN</td>\n      <td>NaN</td>\n      <td>NaN</td>\n      <td>NaN</td>\n      <td>NaN</td>\n      <td>NaN</td>\n      <td>NaN</td>\n      <td>NaN</td>\n    </tr>\n    <tr>\n      <th>2</th>\n      <td>335982</td>\n      <td>2007/08</td>\n      <td>18-04-2008</td>\n      <td>M Chinnaswamy Stadium</td>\n      <td>1</td>\n      <td>0.3</td>\n      <td>Kolkata Knight Riders</td>\n      <td>Royal Challengers Bangalore</td>\n      <td>BB McCullum</td>\n      <td>SC Ganguly</td>\n      <td>...</td>\n      <td>1</td>\n      <td>1.0</td>\n      <td>NaN</td>\n      <td>NaN</td>\n      <td>NaN</td>\n      <td>NaN</td>\n      <td>NaN</td>\n      <td>NaN</td>\n      <td>NaN</td>\n      <td>NaN</td>\n    </tr>\n    <tr>\n      <th>3</th>\n      <td>335982</td>\n      <td>2007/08</td>\n      <td>18-04-2008</td>\n      <td>M Chinnaswamy Stadium</td>\n      <td>1</td>\n      <td>0.4</td>\n      <td>Kolkata Knight Riders</td>\n      <td>Royal Challengers Bangalore</td>\n      <td>BB McCullum</td>\n      <td>SC Ganguly</td>\n      <td>...</td>\n      <td>0</td>\n      <td>NaN</td>\n      <td>NaN</td>\n      <td>NaN</td>\n      <td>NaN</td>\n      <td>NaN</td>\n      <td>NaN</td>\n      <td>NaN</td>\n      <td>NaN</td>\n      <td>NaN</td>\n    </tr>\n    <tr>\n      <th>4</th>\n      <td>335982</td>\n      <td>2007/08</td>\n      <td>18-04-2008</td>\n      <td>M Chinnaswamy Stadium</td>\n      <td>1</td>\n      <td>0.5</td>\n      <td>Kolkata Knight Riders</td>\n      <td>Royal Challengers Bangalore</td>\n      <td>BB McCullum</td>\n      <td>SC Ganguly</td>\n      <td>...</td>\n      <td>0</td>\n      <td>NaN</td>\n      <td>NaN</td>\n      <td>NaN</td>\n      <td>NaN</td>\n      <td>NaN</td>\n      <td>NaN</td>\n      <td>NaN</td>\n      <td>NaN</td>\n      <td>NaN</td>\n    </tr>\n    <tr>\n      <th>...</th>\n      <td>...</td>\n      <td>...</td>\n      <td>...</td>\n      <td>...</td>\n      <td>...</td>\n      <td>...</td>\n      <td>...</td>\n      <td>...</td>\n      <td>...</td>\n      <td>...</td>\n      <td>...</td>\n      <td>...</td>\n      <td>...</td>\n      <td>...</td>\n      <td>...</td>\n      <td>...</td>\n      <td>...</td>\n      <td>...</td>\n      <td>...</td>\n      <td>...</td>\n      <td>...</td>\n    </tr>\n    <tr>\n      <th>194349</th>\n      <td>1254060</td>\n      <td>2021</td>\n      <td>11-04-2021</td>\n      <td>MA Chidambaram Stadium, Chepauk, Chennai</td>\n      <td>2</td>\n      <td>19.2</td>\n      <td>Sunrisers Hyderabad</td>\n      <td>Kolkata Knight Riders</td>\n      <td>Abdul Samad</td>\n      <td>MK Pandey</td>\n      <td>...</td>\n      <td>0</td>\n      <td>NaN</td>\n      <td>NaN</td>\n      <td>NaN</td>\n      <td>NaN</td>\n      <td>NaN</td>\n      <td>NaN</td>\n      <td>NaN</td>\n      <td>NaN</td>\n      <td>NaN</td>\n    </tr>\n    <tr>\n      <th>194350</th>\n      <td>1254060</td>\n      <td>2021</td>\n      <td>11-04-2021</td>\n      <td>MA Chidambaram Stadium, Chepauk, Chennai</td>\n      <td>2</td>\n      <td>19.3</td>\n      <td>Sunrisers Hyderabad</td>\n      <td>Kolkata Knight Riders</td>\n      <td>Abdul Samad</td>\n      <td>MK Pandey</td>\n      <td>...</td>\n      <td>0</td>\n      <td>NaN</td>\n      <td>NaN</td>\n      <td>NaN</td>\n      <td>NaN</td>\n      <td>NaN</td>\n      <td>NaN</td>\n      <td>NaN</td>\n      <td>NaN</td>\n      <td>NaN</td>\n    </tr>\n    <tr>\n      <th>194351</th>\n      <td>1254060</td>\n      <td>2021</td>\n      <td>11-04-2021</td>\n      <td>MA Chidambaram Stadium, Chepauk, Chennai</td>\n      <td>2</td>\n      <td>19.4</td>\n      <td>Sunrisers Hyderabad</td>\n      <td>Kolkata Knight Riders</td>\n      <td>MK Pandey</td>\n      <td>Abdul Samad</td>\n      <td>...</td>\n      <td>0</td>\n      <td>NaN</td>\n      <td>NaN</td>\n      <td>NaN</td>\n      <td>NaN</td>\n      <td>NaN</td>\n      <td>NaN</td>\n      <td>NaN</td>\n      <td>NaN</td>\n      <td>NaN</td>\n    </tr>\n    <tr>\n      <th>194352</th>\n      <td>1254060</td>\n      <td>2021</td>\n      <td>11-04-2021</td>\n      <td>MA Chidambaram Stadium, Chepauk, Chennai</td>\n      <td>2</td>\n      <td>19.5</td>\n      <td>Sunrisers Hyderabad</td>\n      <td>Kolkata Knight Riders</td>\n      <td>Abdul Samad</td>\n      <td>MK Pandey</td>\n      <td>...</td>\n      <td>0</td>\n      <td>NaN</td>\n      <td>NaN</td>\n      <td>NaN</td>\n      <td>NaN</td>\n      <td>NaN</td>\n      <td>NaN</td>\n      <td>NaN</td>\n      <td>NaN</td>\n      <td>NaN</td>\n    </tr>\n    <tr>\n      <th>194353</th>\n      <td>1254060</td>\n      <td>2021</td>\n      <td>11-04-2021</td>\n      <td>MA Chidambaram Stadium, Chepauk, Chennai</td>\n      <td>2</td>\n      <td>19.6</td>\n      <td>Sunrisers Hyderabad</td>\n      <td>Kolkata Knight Riders</td>\n      <td>MK Pandey</td>\n      <td>Abdul Samad</td>\n      <td>...</td>\n      <td>0</td>\n      <td>NaN</td>\n      <td>NaN</td>\n      <td>NaN</td>\n      <td>NaN</td>\n      <td>NaN</td>\n      <td>NaN</td>\n      <td>NaN</td>\n      <td>NaN</td>\n      <td>NaN</td>\n    </tr>\n  </tbody>\n</table>\n<p>194354 rows × 22 columns</p>\n</div>"
     },
     "metadata": {},
     "execution_count": 49
    }
   ]
  },
  {
   "cell_type": "code",
   "execution_count": 50,
   "metadata": {},
   "outputs": [
    {
     "output_type": "execute_result",
     "data": {
      "text/plain": [
       "match_id                    int64\n",
       "season                     object\n",
       "start_date                 object\n",
       "venue                      object\n",
       "innings                     int64\n",
       "ball                      float64\n",
       "batting_team               object\n",
       "bowling_team               object\n",
       "striker                    object\n",
       "non_striker                object\n",
       "bowler                     object\n",
       "runs_off_bat                int64\n",
       "extras                      int64\n",
       "wides                     float64\n",
       "noballs                   float64\n",
       "byes                      float64\n",
       "legbyes                   float64\n",
       "penalty                   float64\n",
       "wicket_type                object\n",
       "player_dismissed           object\n",
       "other_wicket_type         float64\n",
       "other_player_dismissed    float64\n",
       "dtype: object"
      ]
     },
     "metadata": {},
     "execution_count": 50
    }
   ],
   "source": [
    "df.dtypes"
   ]
  },
  {
   "source": [
    "Grouping by MAXIMUM RUNS"
   ],
   "cell_type": "markdown",
   "metadata": {}
  },
  {
   "cell_type": "code",
   "execution_count": 51,
   "metadata": {},
   "outputs": [
    {
     "output_type": "execute_result",
     "data": {
      "text/plain": [
       "striker\n",
       "V Kohli             4642\n",
       "S Dhawan            4263\n",
       "RG Sharma           4106\n",
       "SK Raina            4080\n",
       "DA Warner           3825\n",
       "RV Uthappa          3660\n",
       "G Gambhir           3524\n",
       "MS Dhoni            3495\n",
       "CH Gayle            3356\n",
       "AM Rahane           3325\n",
       "AB de Villiers      3299\n",
       "KD Karthik          3036\n",
       "AT Rayudu           2986\n",
       "SR Watson           2892\n",
       "MK Pandey           2822\n",
       "PA Patel            2442\n",
       "YK Pathan           2334\n",
       "JH Kallis           2291\n",
       "BB McCullum         2272\n",
       "M Vijay             2208\n",
       "Yuvraj Singh        2207\n",
       "KA Pollard          2130\n",
       "SR Tendulkar        2044\n",
       "KL Rahul            1996\n",
       "SV Samson           1970\n",
       "R Dravid            1918\n",
       "SE Marsh            1913\n",
       "SPD Smith           1863\n",
       "V Sehwag            1833\n",
       "F du Plessis        1831\n",
       "SS Iyer             1804\n",
       "DR Smith            1803\n",
       "RA Jadeja           1791\n",
       "JP Duminy           1680\n",
       "MEK Hussey          1648\n",
       "AJ Finch            1626\n",
       "SA Yadav            1560\n",
       "AC Gilchrist        1555\n",
       "WP Saha             1547\n",
       "DPMD Jayawardene    1522\n",
       "Q de Kock           1502\n",
       "MK Tiwary           1489\n",
       "RR Pant             1436\n",
       "KC Sangakkara       1424\n",
       "DA Miller           1375\n",
       "Mandeep Singh       1364\n",
       "NV Ojha             1360\n",
       "SC Ganguly          1326\n",
       "MA Agarwal          1312\n",
       "S Badrinath         1245\n",
       "Name: runs_off_bat, dtype: int64"
      ]
     },
     "metadata": {},
     "execution_count": 51
    }
   ],
   "source": [
    "df2 = df.groupby('striker')['runs_off_bat'].count().sort_values(ascending=False)\n",
    "df2.head(50)\n"
   ]
  },
  {
   "cell_type": "code",
   "execution_count": 52,
   "metadata": {},
   "outputs": [
    {
     "output_type": "execute_result",
     "data": {
      "text/plain": [
       "venue\n",
       "Eden Gardens                                           17988\n",
       "Wankhede Stadium                                       17591\n",
       "M Chinnaswamy Stadium                                  14907\n",
       "Feroz Shah Kotla                                       13950\n",
       "MA Chidambaram Stadium, Chepauk                        11760\n",
       "Rajiv Gandhi International Stadium, Uppal              11604\n",
       "Sawai Mansingh Stadium                                 11150\n",
       "Punjab Cricket Association Stadium, Mohali              8266\n",
       "Dubai International Cricket Stadium                     8080\n",
       "Sheikh Zayed Stadium                                    6925\n",
       "Maharashtra Cricket Association Stadium                 5055\n",
       "Sharjah Cricket Stadium                                 4317\n",
       "Subrata Roy Sahara Stadium                              4064\n",
       "Dr DY Patil Sports Academy                              3993\n",
       "Kingsmead                                               3643\n",
       "Rajiv Gandhi International Stadium                      3609\n",
       "M.Chinnaswamy Stadium                                   3494\n",
       "Arun Jaitley Stadium                                    3356\n",
       "Dr. Y.S. Rajasekhara Reddy ACA-VDCA Cricket Stadium     3037\n",
       "Sardar Patel Stadium, Motera                            2893\n",
       "Name: runs_off_bat, dtype: int64"
      ]
     },
     "metadata": {},
     "execution_count": 52
    }
   ],
   "source": [
    "df1 = df.groupby('venue')['runs_off_bat'].count().sort_values(ascending=False)\n",
    "df1.head(20)"
   ]
  },
  {
   "cell_type": "code",
   "execution_count": 53,
   "metadata": {},
   "outputs": [
    {
     "output_type": "execute_result",
     "data": {
      "text/plain": [
       "bowler\n",
       "AC Gilchrist    1\n",
       "DA Warner       2\n",
       "SPD Smith       2\n",
       "SN Khan         2\n",
       "SA Yadav        6\n",
       "B Chipli        6\n",
       "C Ganapathy     6\n",
       "F du Plessis    6\n",
       "I Malhotra      6\n",
       "RS Gavaskar     6\n",
       "Name: runs_off_bat, dtype: int64"
      ]
     },
     "metadata": {},
     "execution_count": 53
    }
   ],
   "source": [
    "df3 = df.groupby('bowler')['runs_off_bat'].count().sort_values(ascending=True)\n",
    "df3.head(10)"
   ]
  },
  {
   "cell_type": "code",
   "execution_count": 62,
   "metadata": {},
   "outputs": [
    {
     "output_type": "execute_result",
     "data": {
      "text/plain": [
       "0         1\n",
       "1         1\n",
       "2         1\n",
       "3         1\n",
       "4         1\n",
       "         ..\n",
       "194349    1\n",
       "194350    1\n",
       "194351    1\n",
       "194352    1\n",
       "194353    1\n",
       "Name: wicket_type, Length: 194354, dtype: object"
      ]
     },
     "metadata": {},
     "execution_count": 62
    }
   ],
   "source": [
    "df[\"wicket_type\"].fillna(0)\n",
    "df[df[\"wicket_type\"]!=0]=1\n",
    "df['wicket_type']"
   ]
  },
  {
   "cell_type": "code",
   "execution_count": null,
   "metadata": {},
   "outputs": [],
   "source": []
  }
 ]
}