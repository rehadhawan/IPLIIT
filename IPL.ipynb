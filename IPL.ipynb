{
 "metadata": {
  "language_info": {
   "codemirror_mode": {
    "name": "ipython",
    "version": 3
   },
   "file_extension": ".py",
   "mimetype": "text/x-python",
   "name": "python",
   "nbconvert_exporter": "python",
   "pygments_lexer": "ipython3",
   "version": "3.8.3"
  },
  "orig_nbformat": 2,
  "kernelspec": {
   "name": "python383jvsc74a57bd0b3ba2566441a7c06988d0923437866b63cedc61552a5af99d1f4fb67d367b25f",
   "display_name": "Python 3.8.3 64-bit (conda)"
  }
 },
 "nbformat": 4,
 "nbformat_minor": 2,
 "cells": [
  {
   "source": [
    "import pandas as pd\n",
    "import numpy as np\n",
    "path = r\"C:\\Users\\reha_\\Desktop\\IPLIIT\\all_matches.csv\"\n",
    "df=pd.read_csv(path)\n",
    "df = df[df[\"ball\"] < 6.0]\n",
    "\n"
   ],
   "cell_type": "code",
   "metadata": {},
   "execution_count": 86,
   "outputs": [
    {
     "output_type": "stream",
     "name": "stderr",
     "text": [
      "C:\\ProgramData\\Anaconda3\\lib\\site-packages\\IPython\\core\\interactiveshell.py:3071: DtypeWarning: Columns (1) have mixed types.Specify dtype option on import or set low_memory=False.\n  has_raised = await self.run_ast_nodes(code_ast.body, cell_name,\n"
     ]
    }
   ]
  },
  {
   "cell_type": "code",
   "execution_count": 87,
   "metadata": {},
   "outputs": [
    {
     "output_type": "execute_result",
     "data": {
      "text/plain": [
       "\"df.dtypes\\ndf1 = df.groupby('striker')['runs_off_bat'].count().sort_values(ascending=False)\\ndf1.head(10)\\ndf2 = df.groupby('venue')['runs_off_bat'].count().sort_values(ascending=False)\\ndf2.head(10)\\ndf3 = df.groupby('bowler')['runs_off_bat'].count().sort_values(ascending=True)\\ndf3.head(10)\""
      ]
     },
     "metadata": {},
     "execution_count": 87
    }
   ],
   "source": [
    "\"\"\"df.dtypes\n",
    "df1 = df.groupby('striker')['runs_off_bat'].count().sort_values(ascending=False)\n",
    "df1.head(10)\n",
    "df2 = df.groupby('venue')['runs_off_bat'].count().sort_values(ascending=False)\n",
    "df2.head(10)\n",
    "df3 = df.groupby('bowler')['runs_off_bat'].count().sort_values(ascending=True)\n",
    "df3.head(10)\"\"\"\n"
   ]
  },
  {
   "cell_type": "code",
   "execution_count": 88,
   "metadata": {},
   "outputs": [],
   "source": [
    "df[\"wicket_type\"].fillna(0, inplace = True)\n",
    "df[\"wicket_type\"].replace({\"bowled\": 1,\"caught\": 1,\"caught and bowled\": 1,\"hit wicket\": 1,\"lbw\": 1,\"obstructing the field\": 1,\"retired hurt\": 1,\"run out\": 1,\"stumped\": 1, }, inplace=True)"
   ]
  },
  {
   "cell_type": "code",
   "execution_count": 89,
   "metadata": {},
   "outputs": [
    {
     "output_type": "execute_result",
     "data": {
      "text/plain": [
       "          runs_off_bat                 batting_team  \\\n",
       "match_id                                              \n",
       "3359821             51        Kolkata Knight Riders   \n",
       "3359822             19  Royal Challengers Bangalore   \n",
       "3359831             50          Chennai Super Kings   \n",
       "3359832             61              Kings XI Punjab   \n",
       "3359841             38             Rajasthan Royals   \n",
       "...                ...                          ...   \n",
       "12540582            38  Royal Challengers Bangalore   \n",
       "12540591            30          Chennai Super Kings   \n",
       "12540592            65               Delhi Capitals   \n",
       "12540601            50        Kolkata Knight Riders   \n",
       "12540602            35          Sunrisers Hyderabad   \n",
       "\n",
       "                         bowling_team  extras  wicket_type  \\\n",
       "match_id                                                     \n",
       "3359821   Royal Challengers Bangalore      10            1   \n",
       "3359822         Kolkata Knight Riders       7            4   \n",
       "3359831               Kings XI Punjab       3            1   \n",
       "3359832           Chennai Super Kings       2            1   \n",
       "3359841              Delhi Daredevils       2            2   \n",
       "...                               ...     ...          ...   \n",
       "12540582               Mumbai Indians       8            2   \n",
       "12540591               Delhi Capitals       3            2   \n",
       "12540592          Chennai Super Kings       0            0   \n",
       "12540601          Sunrisers Hyderabad       0            0   \n",
       "12540602        Kolkata Knight Riders       0            2   \n",
       "\n",
       "                                               venue  total_runs  \n",
       "match_id                                                          \n",
       "3359821                        M Chinnaswamy Stadium          61  \n",
       "3359822                        M Chinnaswamy Stadium          26  \n",
       "3359831   Punjab Cricket Association Stadium, Mohali          53  \n",
       "3359832   Punjab Cricket Association Stadium, Mohali          63  \n",
       "3359841                             Feroz Shah Kotla          40  \n",
       "...                                              ...         ...  \n",
       "12540582    MA Chidambaram Stadium, Chepauk, Chennai          46  \n",
       "12540591                    Wankhede Stadium, Mumbai          33  \n",
       "12540592                    Wankhede Stadium, Mumbai          65  \n",
       "12540601    MA Chidambaram Stadium, Chepauk, Chennai          50  \n",
       "12540602    MA Chidambaram Stadium, Chepauk, Chennai          35  \n",
       "\n",
       "[1664 rows x 7 columns]"
      ],
      "text/html": "<div>\n<style scoped>\n    .dataframe tbody tr th:only-of-type {\n        vertical-align: middle;\n    }\n\n    .dataframe tbody tr th {\n        vertical-align: top;\n    }\n\n    .dataframe thead th {\n        text-align: right;\n    }\n</style>\n<table border=\"1\" class=\"dataframe\">\n  <thead>\n    <tr style=\"text-align: right;\">\n      <th></th>\n      <th>runs_off_bat</th>\n      <th>batting_team</th>\n      <th>bowling_team</th>\n      <th>extras</th>\n      <th>wicket_type</th>\n      <th>venue</th>\n      <th>total_runs</th>\n    </tr>\n    <tr>\n      <th>match_id</th>\n      <th></th>\n      <th></th>\n      <th></th>\n      <th></th>\n      <th></th>\n      <th></th>\n      <th></th>\n    </tr>\n  </thead>\n  <tbody>\n    <tr>\n      <th>3359821</th>\n      <td>51</td>\n      <td>Kolkata Knight Riders</td>\n      <td>Royal Challengers Bangalore</td>\n      <td>10</td>\n      <td>1</td>\n      <td>M Chinnaswamy Stadium</td>\n      <td>61</td>\n    </tr>\n    <tr>\n      <th>3359822</th>\n      <td>19</td>\n      <td>Royal Challengers Bangalore</td>\n      <td>Kolkata Knight Riders</td>\n      <td>7</td>\n      <td>4</td>\n      <td>M Chinnaswamy Stadium</td>\n      <td>26</td>\n    </tr>\n    <tr>\n      <th>3359831</th>\n      <td>50</td>\n      <td>Chennai Super Kings</td>\n      <td>Kings XI Punjab</td>\n      <td>3</td>\n      <td>1</td>\n      <td>Punjab Cricket Association Stadium, Mohali</td>\n      <td>53</td>\n    </tr>\n    <tr>\n      <th>3359832</th>\n      <td>61</td>\n      <td>Kings XI Punjab</td>\n      <td>Chennai Super Kings</td>\n      <td>2</td>\n      <td>1</td>\n      <td>Punjab Cricket Association Stadium, Mohali</td>\n      <td>63</td>\n    </tr>\n    <tr>\n      <th>3359841</th>\n      <td>38</td>\n      <td>Rajasthan Royals</td>\n      <td>Delhi Daredevils</td>\n      <td>2</td>\n      <td>2</td>\n      <td>Feroz Shah Kotla</td>\n      <td>40</td>\n    </tr>\n    <tr>\n      <th>...</th>\n      <td>...</td>\n      <td>...</td>\n      <td>...</td>\n      <td>...</td>\n      <td>...</td>\n      <td>...</td>\n      <td>...</td>\n    </tr>\n    <tr>\n      <th>12540582</th>\n      <td>38</td>\n      <td>Royal Challengers Bangalore</td>\n      <td>Mumbai Indians</td>\n      <td>8</td>\n      <td>2</td>\n      <td>MA Chidambaram Stadium, Chepauk, Chennai</td>\n      <td>46</td>\n    </tr>\n    <tr>\n      <th>12540591</th>\n      <td>30</td>\n      <td>Chennai Super Kings</td>\n      <td>Delhi Capitals</td>\n      <td>3</td>\n      <td>2</td>\n      <td>Wankhede Stadium, Mumbai</td>\n      <td>33</td>\n    </tr>\n    <tr>\n      <th>12540592</th>\n      <td>65</td>\n      <td>Delhi Capitals</td>\n      <td>Chennai Super Kings</td>\n      <td>0</td>\n      <td>0</td>\n      <td>Wankhede Stadium, Mumbai</td>\n      <td>65</td>\n    </tr>\n    <tr>\n      <th>12540601</th>\n      <td>50</td>\n      <td>Kolkata Knight Riders</td>\n      <td>Sunrisers Hyderabad</td>\n      <td>0</td>\n      <td>0</td>\n      <td>MA Chidambaram Stadium, Chepauk, Chennai</td>\n      <td>50</td>\n    </tr>\n    <tr>\n      <th>12540602</th>\n      <td>35</td>\n      <td>Sunrisers Hyderabad</td>\n      <td>Kolkata Knight Riders</td>\n      <td>0</td>\n      <td>2</td>\n      <td>MA Chidambaram Stadium, Chepauk, Chennai</td>\n      <td>35</td>\n    </tr>\n  </tbody>\n</table>\n<p>1664 rows × 7 columns</p>\n</div>"
     },
     "metadata": {},
     "execution_count": 89
    }
   ],
   "source": [
    "df[\"match_id\"] = 10 * df[\"match_id\"] + df[\"innings\"]\n",
    "aggregation_functions = {'runs_off_bat': 'sum', 'batting_team':'first', 'bowling_team':'first', 'extras':'sum', 'wicket_type': 'sum', 'venue': 'first'}\n",
    "df_new = df.groupby('match_id').aggregate(aggregation_functions)\n",
    "df_new[\"total_runs\"] = df_new[\"runs_off_bat\"] + df_new[\"extras\"]\n",
    "df_new"
   ]
  },
  {
   "cell_type": "code",
   "execution_count": 90,
   "metadata": {},
   "outputs": [
    {
     "output_type": "execute_result",
     "data": {
      "text/plain": [
       "          wicket_type  total_runs  Chennai Super Kings  Deccan Chargers  \\\n",
       "match_id                                                                  \n",
       "3359821             1          61                    0                0   \n",
       "3359822             4          26                    0                0   \n",
       "3359831             1          53                    1                0   \n",
       "3359832             1          63                    0                0   \n",
       "3359841             2          40                    0                0   \n",
       "...               ...         ...                  ...              ...   \n",
       "12540582            2          46                    0                0   \n",
       "12540591            2          33                    1                0   \n",
       "12540592            0          65                    0                0   \n",
       "12540601            0          50                    0                0   \n",
       "12540602            2          35                    0                0   \n",
       "\n",
       "          Delhi Capitals  Delhi Daredevils  Gujarat Lions  Kings XI Punjab  \\\n",
       "match_id                                                                     \n",
       "3359821                0                 0              0                0   \n",
       "3359822                0                 0              0                0   \n",
       "3359831                0                 0              0                0   \n",
       "3359832                0                 0              0                1   \n",
       "3359841                0                 0              0                0   \n",
       "...                  ...               ...            ...              ...   \n",
       "12540582               0                 0              0                0   \n",
       "12540591               0                 0              0                0   \n",
       "12540592               1                 0              0                0   \n",
       "12540601               0                 0              0                0   \n",
       "12540602               0                 0              0                0   \n",
       "\n",
       "          Kochi Tuskers Kerala  Kolkata Knight Riders  ...  \\\n",
       "match_id                                               ...   \n",
       "3359821                      0                      1  ...   \n",
       "3359822                      0                      0  ...   \n",
       "3359831                      0                      0  ...   \n",
       "3359832                      0                      0  ...   \n",
       "3359841                      0                      0  ...   \n",
       "...                        ...                    ...  ...   \n",
       "12540582                     0                      0  ...   \n",
       "12540591                     0                      0  ...   \n",
       "12540592                     0                      0  ...   \n",
       "12540601                     0                      1  ...   \n",
       "12540602                     0                      0  ...   \n",
       "\n",
       "          Sawai Mansingh Stadium  \\\n",
       "match_id                           \n",
       "3359821                        0   \n",
       "3359822                        0   \n",
       "3359831                        0   \n",
       "3359832                        0   \n",
       "3359841                        0   \n",
       "...                          ...   \n",
       "12540582                       0   \n",
       "12540591                       0   \n",
       "12540592                       0   \n",
       "12540601                       0   \n",
       "12540602                       0   \n",
       "\n",
       "          Shaheed Veer Narayan Singh International Stadium  \\\n",
       "match_id                                                     \n",
       "3359821                                                  0   \n",
       "3359822                                                  0   \n",
       "3359831                                                  0   \n",
       "3359832                                                  0   \n",
       "3359841                                                  0   \n",
       "...                                                    ...   \n",
       "12540582                                                 0   \n",
       "12540591                                                 0   \n",
       "12540592                                                 0   \n",
       "12540601                                                 0   \n",
       "12540602                                                 0   \n",
       "\n",
       "          Sharjah Cricket Stadium  Sheikh Zayed Stadium  St George's Park  \\\n",
       "match_id                                                                    \n",
       "3359821                         0                     0                 0   \n",
       "3359822                         0                     0                 0   \n",
       "3359831                         0                     0                 0   \n",
       "3359832                         0                     0                 0   \n",
       "3359841                         0                     0                 0   \n",
       "...                           ...                   ...               ...   \n",
       "12540582                        0                     0                 0   \n",
       "12540591                        0                     0                 0   \n",
       "12540592                        0                     0                 0   \n",
       "12540601                        0                     0                 0   \n",
       "12540602                        0                     0                 0   \n",
       "\n",
       "          Subrata Roy Sahara Stadium  SuperSport Park  \\\n",
       "match_id                                                \n",
       "3359821                            0                0   \n",
       "3359822                            0                0   \n",
       "3359831                            0                0   \n",
       "3359832                            0                0   \n",
       "3359841                            0                0   \n",
       "...                              ...              ...   \n",
       "12540582                           0                0   \n",
       "12540591                           0                0   \n",
       "12540592                           0                0   \n",
       "12540601                           0                0   \n",
       "12540602                           0                0   \n",
       "\n",
       "          Vidarbha Cricket Association Stadium, Jamtha  Wankhede Stadium  \\\n",
       "match_id                                                                   \n",
       "3359821                                              0                 0   \n",
       "3359822                                              0                 0   \n",
       "3359831                                              0                 0   \n",
       "3359832                                              0                 0   \n",
       "3359841                                              0                 0   \n",
       "...                                                ...               ...   \n",
       "12540582                                             0                 0   \n",
       "12540591                                             0                 0   \n",
       "12540592                                             0                 0   \n",
       "12540601                                             0                 0   \n",
       "12540602                                             0                 0   \n",
       "\n",
       "          Wankhede Stadium, Mumbai  \n",
       "match_id                            \n",
       "3359821                          0  \n",
       "3359822                          0  \n",
       "3359831                          0  \n",
       "3359832                          0  \n",
       "3359841                          0  \n",
       "...                            ...  \n",
       "12540582                         0  \n",
       "12540591                         1  \n",
       "12540592                         1  \n",
       "12540601                         0  \n",
       "12540602                         0  \n",
       "\n",
       "[1664 rows x 74 columns]"
      ],
      "text/html": "<div>\n<style scoped>\n    .dataframe tbody tr th:only-of-type {\n        vertical-align: middle;\n    }\n\n    .dataframe tbody tr th {\n        vertical-align: top;\n    }\n\n    .dataframe thead th {\n        text-align: right;\n    }\n</style>\n<table border=\"1\" class=\"dataframe\">\n  <thead>\n    <tr style=\"text-align: right;\">\n      <th></th>\n      <th>wicket_type</th>\n      <th>total_runs</th>\n      <th>Chennai Super Kings</th>\n      <th>Deccan Chargers</th>\n      <th>Delhi Capitals</th>\n      <th>Delhi Daredevils</th>\n      <th>Gujarat Lions</th>\n      <th>Kings XI Punjab</th>\n      <th>Kochi Tuskers Kerala</th>\n      <th>Kolkata Knight Riders</th>\n      <th>...</th>\n      <th>Sawai Mansingh Stadium</th>\n      <th>Shaheed Veer Narayan Singh International Stadium</th>\n      <th>Sharjah Cricket Stadium</th>\n      <th>Sheikh Zayed Stadium</th>\n      <th>St George's Park</th>\n      <th>Subrata Roy Sahara Stadium</th>\n      <th>SuperSport Park</th>\n      <th>Vidarbha Cricket Association Stadium, Jamtha</th>\n      <th>Wankhede Stadium</th>\n      <th>Wankhede Stadium, Mumbai</th>\n    </tr>\n    <tr>\n      <th>match_id</th>\n      <th></th>\n      <th></th>\n      <th></th>\n      <th></th>\n      <th></th>\n      <th></th>\n      <th></th>\n      <th></th>\n      <th></th>\n      <th></th>\n      <th></th>\n      <th></th>\n      <th></th>\n      <th></th>\n      <th></th>\n      <th></th>\n      <th></th>\n      <th></th>\n      <th></th>\n      <th></th>\n      <th></th>\n    </tr>\n  </thead>\n  <tbody>\n    <tr>\n      <th>3359821</th>\n      <td>1</td>\n      <td>61</td>\n      <td>0</td>\n      <td>0</td>\n      <td>0</td>\n      <td>0</td>\n      <td>0</td>\n      <td>0</td>\n      <td>0</td>\n      <td>1</td>\n      <td>...</td>\n      <td>0</td>\n      <td>0</td>\n      <td>0</td>\n      <td>0</td>\n      <td>0</td>\n      <td>0</td>\n      <td>0</td>\n      <td>0</td>\n      <td>0</td>\n      <td>0</td>\n    </tr>\n    <tr>\n      <th>3359822</th>\n      <td>4</td>\n      <td>26</td>\n      <td>0</td>\n      <td>0</td>\n      <td>0</td>\n      <td>0</td>\n      <td>0</td>\n      <td>0</td>\n      <td>0</td>\n      <td>0</td>\n      <td>...</td>\n      <td>0</td>\n      <td>0</td>\n      <td>0</td>\n      <td>0</td>\n      <td>0</td>\n      <td>0</td>\n      <td>0</td>\n      <td>0</td>\n      <td>0</td>\n      <td>0</td>\n    </tr>\n    <tr>\n      <th>3359831</th>\n      <td>1</td>\n      <td>53</td>\n      <td>1</td>\n      <td>0</td>\n      <td>0</td>\n      <td>0</td>\n      <td>0</td>\n      <td>0</td>\n      <td>0</td>\n      <td>0</td>\n      <td>...</td>\n      <td>0</td>\n      <td>0</td>\n      <td>0</td>\n      <td>0</td>\n      <td>0</td>\n      <td>0</td>\n      <td>0</td>\n      <td>0</td>\n      <td>0</td>\n      <td>0</td>\n    </tr>\n    <tr>\n      <th>3359832</th>\n      <td>1</td>\n      <td>63</td>\n      <td>0</td>\n      <td>0</td>\n      <td>0</td>\n      <td>0</td>\n      <td>0</td>\n      <td>1</td>\n      <td>0</td>\n      <td>0</td>\n      <td>...</td>\n      <td>0</td>\n      <td>0</td>\n      <td>0</td>\n      <td>0</td>\n      <td>0</td>\n      <td>0</td>\n      <td>0</td>\n      <td>0</td>\n      <td>0</td>\n      <td>0</td>\n    </tr>\n    <tr>\n      <th>3359841</th>\n      <td>2</td>\n      <td>40</td>\n      <td>0</td>\n      <td>0</td>\n      <td>0</td>\n      <td>0</td>\n      <td>0</td>\n      <td>0</td>\n      <td>0</td>\n      <td>0</td>\n      <td>...</td>\n      <td>0</td>\n      <td>0</td>\n      <td>0</td>\n      <td>0</td>\n      <td>0</td>\n      <td>0</td>\n      <td>0</td>\n      <td>0</td>\n      <td>0</td>\n      <td>0</td>\n    </tr>\n    <tr>\n      <th>...</th>\n      <td>...</td>\n      <td>...</td>\n      <td>...</td>\n      <td>...</td>\n      <td>...</td>\n      <td>...</td>\n      <td>...</td>\n      <td>...</td>\n      <td>...</td>\n      <td>...</td>\n      <td>...</td>\n      <td>...</td>\n      <td>...</td>\n      <td>...</td>\n      <td>...</td>\n      <td>...</td>\n      <td>...</td>\n      <td>...</td>\n      <td>...</td>\n      <td>...</td>\n      <td>...</td>\n    </tr>\n    <tr>\n      <th>12540582</th>\n      <td>2</td>\n      <td>46</td>\n      <td>0</td>\n      <td>0</td>\n      <td>0</td>\n      <td>0</td>\n      <td>0</td>\n      <td>0</td>\n      <td>0</td>\n      <td>0</td>\n      <td>...</td>\n      <td>0</td>\n      <td>0</td>\n      <td>0</td>\n      <td>0</td>\n      <td>0</td>\n      <td>0</td>\n      <td>0</td>\n      <td>0</td>\n      <td>0</td>\n      <td>0</td>\n    </tr>\n    <tr>\n      <th>12540591</th>\n      <td>2</td>\n      <td>33</td>\n      <td>1</td>\n      <td>0</td>\n      <td>0</td>\n      <td>0</td>\n      <td>0</td>\n      <td>0</td>\n      <td>0</td>\n      <td>0</td>\n      <td>...</td>\n      <td>0</td>\n      <td>0</td>\n      <td>0</td>\n      <td>0</td>\n      <td>0</td>\n      <td>0</td>\n      <td>0</td>\n      <td>0</td>\n      <td>0</td>\n      <td>1</td>\n    </tr>\n    <tr>\n      <th>12540592</th>\n      <td>0</td>\n      <td>65</td>\n      <td>0</td>\n      <td>0</td>\n      <td>1</td>\n      <td>0</td>\n      <td>0</td>\n      <td>0</td>\n      <td>0</td>\n      <td>0</td>\n      <td>...</td>\n      <td>0</td>\n      <td>0</td>\n      <td>0</td>\n      <td>0</td>\n      <td>0</td>\n      <td>0</td>\n      <td>0</td>\n      <td>0</td>\n      <td>0</td>\n      <td>1</td>\n    </tr>\n    <tr>\n      <th>12540601</th>\n      <td>0</td>\n      <td>50</td>\n      <td>0</td>\n      <td>0</td>\n      <td>0</td>\n      <td>0</td>\n      <td>0</td>\n      <td>0</td>\n      <td>0</td>\n      <td>1</td>\n      <td>...</td>\n      <td>0</td>\n      <td>0</td>\n      <td>0</td>\n      <td>0</td>\n      <td>0</td>\n      <td>0</td>\n      <td>0</td>\n      <td>0</td>\n      <td>0</td>\n      <td>0</td>\n    </tr>\n    <tr>\n      <th>12540602</th>\n      <td>2</td>\n      <td>35</td>\n      <td>0</td>\n      <td>0</td>\n      <td>0</td>\n      <td>0</td>\n      <td>0</td>\n      <td>0</td>\n      <td>0</td>\n      <td>0</td>\n      <td>...</td>\n      <td>0</td>\n      <td>0</td>\n      <td>0</td>\n      <td>0</td>\n      <td>0</td>\n      <td>0</td>\n      <td>0</td>\n      <td>0</td>\n      <td>0</td>\n      <td>0</td>\n    </tr>\n  </tbody>\n</table>\n<p>1664 rows × 74 columns</p>\n</div>"
     },
     "metadata": {},
     "execution_count": 90
    }
   ],
   "source": [
    "df_ch = df_new.drop(columns =['runs_off_bat', 'batting_team', 'bowling_team', 'extras', 'venue'])\n",
    "dummy = pd.get_dummies(df_new['batting_team'])\n",
    "df_res = pd.concat([df_ch, dummy], axis = 1)\n",
    "dummy1 = pd.get_dummies(df_new['bowling_team'])\n",
    "df_res1 = pd.concat([df_res, dummy1], axis = 1)\n",
    "dummy2 = pd.get_dummies(df_new['venue'])\n",
    "df5 = pd.concat([df_res1, dummy2], axis = 1)\n",
    "df5"
   ]
  },
  {
   "cell_type": "code",
   "execution_count": 91,
   "metadata": {},
   "outputs": [],
   "source": [
    "train_df5=df5[:1331]\n",
    "train_target=train_df5[\"total_runs\"].values\n",
    "train_df5=train_df5.drop([\"total_runs\"],axis=1)\n",
    "train_features=train_df5.values"
   ]
  },
  {
   "cell_type": "code",
   "execution_count": 92,
   "metadata": {},
   "outputs": [
    {
     "output_type": "execute_result",
     "data": {
      "text/plain": [
       "array([55, 37, 44, 57, 51, 51, 50, 39, 43, 40, 51, 56, 59, 43, 40, 62, 79,\n",
       "       57, 56, 49, 39, 47, 42, 60, 61, 56, 47, 45, 34, 38, 55, 63, 33, 47,\n",
       "       47, 38, 51, 55, 57, 59, 58, 44, 58, 29, 53, 51, 51, 47, 66, 68, 51,\n",
       "       60, 57, 44, 56, 39, 44, 45, 55, 60, 66, 46, 57, 29, 33, 47, 33, 46,\n",
       "       51, 45, 67, 42, 35, 33, 16, 54, 47, 45, 46, 32, 64, 43, 58, 53, 51,\n",
       "       52, 60, 35, 69, 62, 38, 36, 45, 10,  7, 59, 30, 29, 45, 54, 49, 48,\n",
       "       55, 40, 34, 36, 62, 53, 59, 54, 46, 30, 39, 40, 53, 28, 65, 27, 38,\n",
       "       29, 40, 50, 50, 54, 24, 41, 57, 57, 59, 60, 63, 49, 44, 51, 40, 45,\n",
       "       67, 39, 54, 41, 68, 57, 48, 42, 37, 46, 60, 50, 60, 61, 72, 49, 32,\n",
       "       52, 59, 54, 49, 70, 68, 32, 55, 45, 40, 51, 60, 59, 64, 50, 41, 77,\n",
       "       44, 62, 41, 27, 59, 44, 59,  8,  9, 41, 62, 30, 46, 52, 49, 42, 68,\n",
       "       49, 46, 32, 44, 54, 55, 41, 42, 45, 53, 51, 37, 23, 35,  2,  3, 17,\n",
       "       44, 48, 56, 54, 53, 36, 36, 47, 52, 54, 45, 51, 41, 52, 54, 30, 58,\n",
       "       41, 41, 42, 39, 40, 53, 53, 57, 26, 36, 59, 33, 39, 41, 50, 40, 57,\n",
       "       31, 48, 58,  2,  3, 46, 60, 38, 50, 57, 59, 42, 36, 43, 51,  5,  5,\n",
       "       11, 15, 47, 58, 63, 43, 54, 36, 24, 52, 52, 47, 25, 47, 77, 54, 36,\n",
       "       26, 33, 51, 60, 69, 44, 40, 46, 44, 55, 41, 57, 56, 38, 34, 43, 31,\n",
       "       53, 48, 22, 38, 48, 44, 53, 66, 48, 56, 36, 34, 47, 43, 59, 55, 58,\n",
       "       45, 47, 50, 46, 48, 40, 52, 53, 57, 59, 35,  7, 11, 63, 32, 32, 48,\n",
       "       65, 49, 41, 61, 41, 46, 33, 65, 50, 35], dtype=int64)"
      ]
     },
     "metadata": {},
     "execution_count": 92
    }
   ],
   "source": [
    "test_df5=df5[1331:]\n",
    "test_target=test_df5[\"total_runs\"].values\n",
    "test_target"
   ]
  },
  {
   "cell_type": "code",
   "execution_count": 93,
   "metadata": {},
   "outputs": [],
   "source": [
    "test_df5=test_df5.drop([\"total_runs\"],axis=1)\n",
    "test_features=test_df5.values"
   ]
  },
  {
   "cell_type": "code",
   "execution_count": 94,
   "metadata": {},
   "outputs": [
    {
     "output_type": "execute_result",
     "data": {
      "text/plain": [
       "(1331,)"
      ]
     },
     "metadata": {},
     "execution_count": 94
    }
   ],
   "source": [
    "train_target.shape"
   ]
  },
  {
   "cell_type": "code",
   "execution_count": 96,
   "metadata": {},
   "outputs": [
    {
     "output_type": "error",
     "ename": "ModuleNotFoundError",
     "evalue": "No module named 'keras'",
     "traceback": [
      "\u001b[1;31m---------------------------------------------------------------------------\u001b[0m",
      "\u001b[1;31mModuleNotFoundError\u001b[0m                       Traceback (most recent call last)",
      "\u001b[1;32m<ipython-input-96-186b08974dfd>\u001b[0m in \u001b[0;36m<module>\u001b[1;34m\u001b[0m\n\u001b[1;32m----> 1\u001b[1;33m \u001b[1;32mimport\u001b[0m \u001b[0mkeras\u001b[0m\u001b[1;33m\u001b[0m\u001b[1;33m\u001b[0m\u001b[0m\n\u001b[0m\u001b[0;32m      2\u001b[0m \u001b[1;32mfrom\u001b[0m \u001b[0mkeras\u001b[0m\u001b[1;33m.\u001b[0m\u001b[0mlayers\u001b[0m \u001b[1;32mimport\u001b[0m \u001b[0mDense\u001b[0m\u001b[1;33m\u001b[0m\u001b[1;33m\u001b[0m\u001b[0m\n\u001b[0;32m      3\u001b[0m \u001b[1;32mfrom\u001b[0m \u001b[0mkeras\u001b[0m\u001b[1;33m.\u001b[0m\u001b[0mmodels\u001b[0m \u001b[1;32mimport\u001b[0m \u001b[0mSequential\u001b[0m\u001b[1;33m\u001b[0m\u001b[1;33m\u001b[0m\u001b[0m\n\u001b[0;32m      4\u001b[0m \u001b[1;32mfrom\u001b[0m \u001b[0mkeras\u001b[0m\u001b[1;33m.\u001b[0m\u001b[0mutils\u001b[0m \u001b[1;32mimport\u001b[0m \u001b[0mto_categorical\u001b[0m\u001b[1;33m\u001b[0m\u001b[1;33m\u001b[0m\u001b[0m\n",
      "\u001b[1;31mModuleNotFoundError\u001b[0m: No module named 'keras'"
     ]
    }
   ],
   "source": [
    "import keras\n",
    "from keras.layers import Dense\n",
    "from keras.models import Sequential\n",
    "from keras.utils import to_categorical"
   ]
  },
  {
   "cell_type": "code",
   "execution_count": null,
   "metadata": {},
   "outputs": [],
   "source": [
    "train_target=to_categorical(train_target)"
   ]
  },
  {
   "cell_type": "code",
   "execution_count": 75,
   "metadata": {},
   "outputs": [
    {
     "output_type": "execute_result",
     "data": {
      "text/plain": [
       "(1331,)"
      ]
     },
     "metadata": {},
     "execution_count": 75
    }
   ],
   "source": [
    "train_target.shape"
   ]
  },
  {
   "cell_type": "code",
   "execution_count": null,
   "metadata": {},
   "outputs": [],
   "source": [
    "model=Sequential()\n",
    "model.add(Dense(200,activation='relu',input_shape=(73,)))\n",
    "model.add(Dense(64,activation='relu'))\n",
    "model.add(Dense(12,activation='relu'))\n",
    "model.add(Dense(1,activation='softmax'))\n",
    "model.compile(optimizer='adam',loss='categorical_crossentropy',metrics=[\"accuracy\"])\n",
    "model.fit(train_features,train_target,epochs=17)"
   ]
  }
 ]
}