{
 "metadata": {
  "language_info": {
   "codemirror_mode": {
    "name": "ipython",
    "version": 3
   },
   "file_extension": ".py",
   "mimetype": "text/x-python",
   "name": "python",
   "nbconvert_exporter": "python",
   "pygments_lexer": "ipython3",
   "version": "3.8.3"
  },
  "orig_nbformat": 2,
  "kernelspec": {
   "name": "python383jvsc74a57bd0b3ba2566441a7c06988d0923437866b63cedc61552a5af99d1f4fb67d367b25f",
   "display_name": "Python 3.8.3 64-bit (conda)"
  }
 },
 "nbformat": 4,
 "nbformat_minor": 2,
 "cells": [
  {
   "source": [
    "Defining Path, loading data set and trimming to first six overs only\n"
   ],
   "cell_type": "markdown",
   "metadata": {}
  },
  {
   "source": [
    "import pandas as pd\n",
    "import numpy as np\n",
    "path = r\"C:\\Users\\reha_\\Desktop\\IPLIIT\\all_matches.csv\"\n",
    "df=pd.read_csv(path)\n",
    "df = df[df[\"ball\"] < 6.0]\n",
    "\n"
   ],
   "cell_type": "code",
   "metadata": {},
   "execution_count": 28,
   "outputs": [
    {
     "output_type": "stream",
     "name": "stderr",
     "text": [
      "C:\\ProgramData\\Anaconda3\\lib\\site-packages\\IPython\\core\\interactiveshell.py:3071: DtypeWarning: Columns (1) have mixed types.Specify dtype option on import or set low_memory=False.\n  has_raised = await self.run_ast_nodes(code_ast.body, cell_name,\n"
     ]
    }
   ]
  },
  {
   "cell_type": "code",
   "execution_count": 29,
   "metadata": {},
   "outputs": [
    {
     "output_type": "execute_result",
     "data": {
      "text/plain": [
       "match_id                    int64\n",
       "season                     object\n",
       "start_date                 object\n",
       "venue                      object\n",
       "innings                     int64\n",
       "ball                      float64\n",
       "batting_team               object\n",
       "bowling_team               object\n",
       "striker                    object\n",
       "non_striker                object\n",
       "bowler                     object\n",
       "runs_off_bat                int64\n",
       "extras                      int64\n",
       "wides                     float64\n",
       "noballs                   float64\n",
       "byes                      float64\n",
       "legbyes                   float64\n",
       "penalty                   float64\n",
       "wicket_type                object\n",
       "player_dismissed           object\n",
       "other_wicket_type         float64\n",
       "other_player_dismissed    float64\n",
       "dtype: object"
      ]
     },
     "metadata": {},
     "execution_count": 29
    }
   ],
   "source": [
    "df.dtypes"
   ]
  },
  {
   "source": [
    "Grouping by MAXIMUM RUNS"
   ],
   "cell_type": "markdown",
   "metadata": {}
  },
  {
   "cell_type": "code",
   "execution_count": 30,
   "metadata": {},
   "outputs": [
    {
     "output_type": "execute_result",
     "data": {
      "text/plain": [
       "striker\n",
       "S Dhawan            2222\n",
       "DA Warner           1948\n",
       "G Gambhir           1945\n",
       "CH Gayle            1794\n",
       "AM Rahane           1730\n",
       "PA Patel            1630\n",
       "V Kohli             1558\n",
       "RV Uthappa          1541\n",
       "M Vijay             1416\n",
       "SR Watson           1292\n",
       "BB McCullum         1278\n",
       "SK Raina            1204\n",
       "V Sehwag            1160\n",
       "AC Gilchrist        1080\n",
       "RG Sharma           1043\n",
       "SR Tendulkar        1035\n",
       "JH Kallis           1024\n",
       "DR Smith            1003\n",
       "Q de Kock            941\n",
       "MK Pandey            893\n",
       "KL Rahul             875\n",
       "R Dravid             855\n",
       "MEK Hussey           791\n",
       "AJ Finch             773\n",
       "F du Plessis         768\n",
       "SE Marsh             753\n",
       "MA Agarwal           725\n",
       "AT Rayudu            696\n",
       "SV Samson            689\n",
       "SS Iyer              645\n",
       "AB de Villiers       617\n",
       "CA Lynn              553\n",
       "SC Ganguly           540\n",
       "Mandeep Singh        523\n",
       "DPMD Jayawardene     521\n",
       "WP Saha              511\n",
       "M Vohra              503\n",
       "NV Ojha              503\n",
       "JC Buttler           502\n",
       "ML Hayden            482\n",
       "LMP Simmons          480\n",
       "KC Sangakkara        468\n",
       "MS Bisla             460\n",
       "TM Dilshan           456\n",
       "PP Shaw              445\n",
       "SA Yadav             444\n",
       "HH Gibbs             437\n",
       "KK Nair              420\n",
       "KD Karthik           414\n",
       "ST Jayasuriya        403\n",
       "Name: runs_off_bat, dtype: int64"
      ]
     },
     "metadata": {},
     "execution_count": 30
    }
   ],
   "source": [
    "df2 = df.groupby('striker')['runs_off_bat'].count().sort_values(ascending=False)\n",
    "df2.head(50)\n"
   ]
  },
  {
   "cell_type": "code",
   "execution_count": 31,
   "metadata": {},
   "outputs": [
    {
     "output_type": "execute_result",
     "data": {
      "text/plain": [
       "venue\n",
       "Eden Gardens                                           5749\n",
       "Wankhede Stadium                                       5488\n",
       "M Chinnaswamy Stadium                                  4841\n",
       "Feroz Shah Kotla                                       4429\n",
       "Rajiv Gandhi International Stadium, Uppal              3679\n",
       "MA Chidambaram Stadium, Chepauk                        3599\n",
       "Sawai Mansingh Stadium                                 3526\n",
       "Punjab Cricket Association Stadium, Mohali             2609\n",
       "Dubai International Cricket Stadium                    2516\n",
       "Sheikh Zayed Stadium                                   2185\n",
       "Maharashtra Cricket Association Stadium                1570\n",
       "Sharjah Cricket Stadium                                1343\n",
       "Dr DY Patil Sports Academy                             1281\n",
       "Subrata Roy Sahara Stadium                             1264\n",
       "Kingsmead                                              1135\n",
       "Rajiv Gandhi International Stadium                     1120\n",
       "M.Chinnaswamy Stadium                                  1096\n",
       "Arun Jaitley Stadium                                   1039\n",
       "Dr. Y.S. Rajasekhara Reddy ACA-VDCA Cricket Stadium     967\n",
       "SuperSport Park                                         911\n",
       "Name: runs_off_bat, dtype: int64"
      ]
     },
     "metadata": {},
     "execution_count": 31
    }
   ],
   "source": [
    "df1 = df.groupby('venue')['runs_off_bat'].count().sort_values(ascending=False)\n",
    "df1.head(20)"
   ]
  },
  {
   "cell_type": "code",
   "execution_count": 32,
   "metadata": {},
   "outputs": [
    {
     "output_type": "execute_result",
     "data": {
      "text/plain": [
       "bowler\n",
       "A Ashish Reddy     6\n",
       "SS Sarkar          6\n",
       "Ankit Soni         6\n",
       "B Akhil            6\n",
       "Y Nagar            6\n",
       "DAJ Bracewell      6\n",
       "SS Agarwal         6\n",
       "GR Napier          6\n",
       "GS Sandhu          6\n",
       "Gagandeep Singh    6\n",
       "Name: runs_off_bat, dtype: int64"
      ]
     },
     "metadata": {},
     "execution_count": 32
    }
   ],
   "source": [
    "df3 = df.groupby('bowler')['runs_off_bat'].count().sort_values(ascending=True)\n",
    "df3.head(10)"
   ]
  },
  {
   "cell_type": "code",
   "execution_count": 33,
   "metadata": {},
   "outputs": [],
   "source": [
    "df[\"wicket_type\"].fillna(0, inplace = True)\n",
    "df[\"wicket_type\"].replace({\"bowled\": 1,\"caught\": 1,\"caught and bowled\": 1,\"hit wicket\": 1,\"lbw\": 1,\"obstructing the field\": 1,\"retired hurt\": 1,\"run out\": 1,\"stumped\": 1, }, inplace=True)"
   ]
  },
  {
   "cell_type": "code",
   "execution_count": 34,
   "metadata": {},
   "outputs": [
    {
     "output_type": "execute_result",
     "data": {
      "text/plain": [
       "        match_id   season  start_date  \\\n",
       "0        3359821  2007/08  18-04-2008   \n",
       "1        3359821  2007/08  18-04-2008   \n",
       "2        3359821  2007/08  18-04-2008   \n",
       "3        3359821  2007/08  18-04-2008   \n",
       "4        3359821  2007/08  18-04-2008   \n",
       "...          ...      ...         ...   \n",
       "194260  12540602     2021  11-04-2021   \n",
       "194261  12540602     2021  11-04-2021   \n",
       "194262  12540602     2021  11-04-2021   \n",
       "194263  12540602     2021  11-04-2021   \n",
       "194264  12540602     2021  11-04-2021   \n",
       "\n",
       "                                           venue  innings  ball  \\\n",
       "0                          M Chinnaswamy Stadium        1   0.1   \n",
       "1                          M Chinnaswamy Stadium        1   0.2   \n",
       "2                          M Chinnaswamy Stadium        1   0.3   \n",
       "3                          M Chinnaswamy Stadium        1   0.4   \n",
       "4                          M Chinnaswamy Stadium        1   0.5   \n",
       "...                                          ...      ...   ...   \n",
       "194260  MA Chidambaram Stadium, Chepauk, Chennai        2   5.2   \n",
       "194261  MA Chidambaram Stadium, Chepauk, Chennai        2   5.3   \n",
       "194262  MA Chidambaram Stadium, Chepauk, Chennai        2   5.4   \n",
       "194263  MA Chidambaram Stadium, Chepauk, Chennai        2   5.5   \n",
       "194264  MA Chidambaram Stadium, Chepauk, Chennai        2   5.6   \n",
       "\n",
       "                 batting_team                 bowling_team      striker  \\\n",
       "0       Kolkata Knight Riders  Royal Challengers Bangalore   SC Ganguly   \n",
       "1       Kolkata Knight Riders  Royal Challengers Bangalore  BB McCullum   \n",
       "2       Kolkata Knight Riders  Royal Challengers Bangalore  BB McCullum   \n",
       "3       Kolkata Knight Riders  Royal Challengers Bangalore  BB McCullum   \n",
       "4       Kolkata Knight Riders  Royal Challengers Bangalore  BB McCullum   \n",
       "...                       ...                          ...          ...   \n",
       "194260    Sunrisers Hyderabad        Kolkata Knight Riders  JM Bairstow   \n",
       "194261    Sunrisers Hyderabad        Kolkata Knight Riders  JM Bairstow   \n",
       "194262    Sunrisers Hyderabad        Kolkata Knight Riders    MK Pandey   \n",
       "194263    Sunrisers Hyderabad        Kolkata Knight Riders    MK Pandey   \n",
       "194264    Sunrisers Hyderabad        Kolkata Knight Riders    MK Pandey   \n",
       "\n",
       "        non_striker  ... extras  wides  noballs  byes  legbyes  penalty  \\\n",
       "0       BB McCullum  ...      1    NaN      NaN   NaN      1.0      NaN   \n",
       "1        SC Ganguly  ...      0    NaN      NaN   NaN      NaN      NaN   \n",
       "2        SC Ganguly  ...      1    1.0      NaN   NaN      NaN      NaN   \n",
       "3        SC Ganguly  ...      0    NaN      NaN   NaN      NaN      NaN   \n",
       "4        SC Ganguly  ...      0    NaN      NaN   NaN      NaN      NaN   \n",
       "...             ...  ...    ...    ...      ...   ...      ...      ...   \n",
       "194260    MK Pandey  ...      0    NaN      NaN   NaN      NaN      NaN   \n",
       "194261    MK Pandey  ...      0    NaN      NaN   NaN      NaN      NaN   \n",
       "194262  JM Bairstow  ...      0    NaN      NaN   NaN      NaN      NaN   \n",
       "194263  JM Bairstow  ...      0    NaN      NaN   NaN      NaN      NaN   \n",
       "194264  JM Bairstow  ...      0    NaN      NaN   NaN      NaN      NaN   \n",
       "\n",
       "        wicket_type  player_dismissed  other_wicket_type  \\\n",
       "0                 0               NaN                NaN   \n",
       "1                 0               NaN                NaN   \n",
       "2                 0               NaN                NaN   \n",
       "3                 0               NaN                NaN   \n",
       "4                 0               NaN                NaN   \n",
       "...             ...               ...                ...   \n",
       "194260            0               NaN                NaN   \n",
       "194261            0               NaN                NaN   \n",
       "194262            0               NaN                NaN   \n",
       "194263            0               NaN                NaN   \n",
       "194264            0               NaN                NaN   \n",
       "\n",
       "       other_player_dismissed  \n",
       "0                         NaN  \n",
       "1                         NaN  \n",
       "2                         NaN  \n",
       "3                         NaN  \n",
       "4                         NaN  \n",
       "...                       ...  \n",
       "194260                    NaN  \n",
       "194261                    NaN  \n",
       "194262                    NaN  \n",
       "194263                    NaN  \n",
       "194264                    NaN  \n",
       "\n",
       "[61307 rows x 22 columns]"
      ],
      "text/html": "<div>\n<style scoped>\n    .dataframe tbody tr th:only-of-type {\n        vertical-align: middle;\n    }\n\n    .dataframe tbody tr th {\n        vertical-align: top;\n    }\n\n    .dataframe thead th {\n        text-align: right;\n    }\n</style>\n<table border=\"1\" class=\"dataframe\">\n  <thead>\n    <tr style=\"text-align: right;\">\n      <th></th>\n      <th>match_id</th>\n      <th>season</th>\n      <th>start_date</th>\n      <th>venue</th>\n      <th>innings</th>\n      <th>ball</th>\n      <th>batting_team</th>\n      <th>bowling_team</th>\n      <th>striker</th>\n      <th>non_striker</th>\n      <th>...</th>\n      <th>extras</th>\n      <th>wides</th>\n      <th>noballs</th>\n      <th>byes</th>\n      <th>legbyes</th>\n      <th>penalty</th>\n      <th>wicket_type</th>\n      <th>player_dismissed</th>\n      <th>other_wicket_type</th>\n      <th>other_player_dismissed</th>\n    </tr>\n  </thead>\n  <tbody>\n    <tr>\n      <th>0</th>\n      <td>3359821</td>\n      <td>2007/08</td>\n      <td>18-04-2008</td>\n      <td>M Chinnaswamy Stadium</td>\n      <td>1</td>\n      <td>0.1</td>\n      <td>Kolkata Knight Riders</td>\n      <td>Royal Challengers Bangalore</td>\n      <td>SC Ganguly</td>\n      <td>BB McCullum</td>\n      <td>...</td>\n      <td>1</td>\n      <td>NaN</td>\n      <td>NaN</td>\n      <td>NaN</td>\n      <td>1.0</td>\n      <td>NaN</td>\n      <td>0</td>\n      <td>NaN</td>\n      <td>NaN</td>\n      <td>NaN</td>\n    </tr>\n    <tr>\n      <th>1</th>\n      <td>3359821</td>\n      <td>2007/08</td>\n      <td>18-04-2008</td>\n      <td>M Chinnaswamy Stadium</td>\n      <td>1</td>\n      <td>0.2</td>\n      <td>Kolkata Knight Riders</td>\n      <td>Royal Challengers Bangalore</td>\n      <td>BB McCullum</td>\n      <td>SC Ganguly</td>\n      <td>...</td>\n      <td>0</td>\n      <td>NaN</td>\n      <td>NaN</td>\n      <td>NaN</td>\n      <td>NaN</td>\n      <td>NaN</td>\n      <td>0</td>\n      <td>NaN</td>\n      <td>NaN</td>\n      <td>NaN</td>\n    </tr>\n    <tr>\n      <th>2</th>\n      <td>3359821</td>\n      <td>2007/08</td>\n      <td>18-04-2008</td>\n      <td>M Chinnaswamy Stadium</td>\n      <td>1</td>\n      <td>0.3</td>\n      <td>Kolkata Knight Riders</td>\n      <td>Royal Challengers Bangalore</td>\n      <td>BB McCullum</td>\n      <td>SC Ganguly</td>\n      <td>...</td>\n      <td>1</td>\n      <td>1.0</td>\n      <td>NaN</td>\n      <td>NaN</td>\n      <td>NaN</td>\n      <td>NaN</td>\n      <td>0</td>\n      <td>NaN</td>\n      <td>NaN</td>\n      <td>NaN</td>\n    </tr>\n    <tr>\n      <th>3</th>\n      <td>3359821</td>\n      <td>2007/08</td>\n      <td>18-04-2008</td>\n      <td>M Chinnaswamy Stadium</td>\n      <td>1</td>\n      <td>0.4</td>\n      <td>Kolkata Knight Riders</td>\n      <td>Royal Challengers Bangalore</td>\n      <td>BB McCullum</td>\n      <td>SC Ganguly</td>\n      <td>...</td>\n      <td>0</td>\n      <td>NaN</td>\n      <td>NaN</td>\n      <td>NaN</td>\n      <td>NaN</td>\n      <td>NaN</td>\n      <td>0</td>\n      <td>NaN</td>\n      <td>NaN</td>\n      <td>NaN</td>\n    </tr>\n    <tr>\n      <th>4</th>\n      <td>3359821</td>\n      <td>2007/08</td>\n      <td>18-04-2008</td>\n      <td>M Chinnaswamy Stadium</td>\n      <td>1</td>\n      <td>0.5</td>\n      <td>Kolkata Knight Riders</td>\n      <td>Royal Challengers Bangalore</td>\n      <td>BB McCullum</td>\n      <td>SC Ganguly</td>\n      <td>...</td>\n      <td>0</td>\n      <td>NaN</td>\n      <td>NaN</td>\n      <td>NaN</td>\n      <td>NaN</td>\n      <td>NaN</td>\n      <td>0</td>\n      <td>NaN</td>\n      <td>NaN</td>\n      <td>NaN</td>\n    </tr>\n    <tr>\n      <th>...</th>\n      <td>...</td>\n      <td>...</td>\n      <td>...</td>\n      <td>...</td>\n      <td>...</td>\n      <td>...</td>\n      <td>...</td>\n      <td>...</td>\n      <td>...</td>\n      <td>...</td>\n      <td>...</td>\n      <td>...</td>\n      <td>...</td>\n      <td>...</td>\n      <td>...</td>\n      <td>...</td>\n      <td>...</td>\n      <td>...</td>\n      <td>...</td>\n      <td>...</td>\n      <td>...</td>\n    </tr>\n    <tr>\n      <th>194260</th>\n      <td>12540602</td>\n      <td>2021</td>\n      <td>11-04-2021</td>\n      <td>MA Chidambaram Stadium, Chepauk, Chennai</td>\n      <td>2</td>\n      <td>5.2</td>\n      <td>Sunrisers Hyderabad</td>\n      <td>Kolkata Knight Riders</td>\n      <td>JM Bairstow</td>\n      <td>MK Pandey</td>\n      <td>...</td>\n      <td>0</td>\n      <td>NaN</td>\n      <td>NaN</td>\n      <td>NaN</td>\n      <td>NaN</td>\n      <td>NaN</td>\n      <td>0</td>\n      <td>NaN</td>\n      <td>NaN</td>\n      <td>NaN</td>\n    </tr>\n    <tr>\n      <th>194261</th>\n      <td>12540602</td>\n      <td>2021</td>\n      <td>11-04-2021</td>\n      <td>MA Chidambaram Stadium, Chepauk, Chennai</td>\n      <td>2</td>\n      <td>5.3</td>\n      <td>Sunrisers Hyderabad</td>\n      <td>Kolkata Knight Riders</td>\n      <td>JM Bairstow</td>\n      <td>MK Pandey</td>\n      <td>...</td>\n      <td>0</td>\n      <td>NaN</td>\n      <td>NaN</td>\n      <td>NaN</td>\n      <td>NaN</td>\n      <td>NaN</td>\n      <td>0</td>\n      <td>NaN</td>\n      <td>NaN</td>\n      <td>NaN</td>\n    </tr>\n    <tr>\n      <th>194262</th>\n      <td>12540602</td>\n      <td>2021</td>\n      <td>11-04-2021</td>\n      <td>MA Chidambaram Stadium, Chepauk, Chennai</td>\n      <td>2</td>\n      <td>5.4</td>\n      <td>Sunrisers Hyderabad</td>\n      <td>Kolkata Knight Riders</td>\n      <td>MK Pandey</td>\n      <td>JM Bairstow</td>\n      <td>...</td>\n      <td>0</td>\n      <td>NaN</td>\n      <td>NaN</td>\n      <td>NaN</td>\n      <td>NaN</td>\n      <td>NaN</td>\n      <td>0</td>\n      <td>NaN</td>\n      <td>NaN</td>\n      <td>NaN</td>\n    </tr>\n    <tr>\n      <th>194263</th>\n      <td>12540602</td>\n      <td>2021</td>\n      <td>11-04-2021</td>\n      <td>MA Chidambaram Stadium, Chepauk, Chennai</td>\n      <td>2</td>\n      <td>5.5</td>\n      <td>Sunrisers Hyderabad</td>\n      <td>Kolkata Knight Riders</td>\n      <td>MK Pandey</td>\n      <td>JM Bairstow</td>\n      <td>...</td>\n      <td>0</td>\n      <td>NaN</td>\n      <td>NaN</td>\n      <td>NaN</td>\n      <td>NaN</td>\n      <td>NaN</td>\n      <td>0</td>\n      <td>NaN</td>\n      <td>NaN</td>\n      <td>NaN</td>\n    </tr>\n    <tr>\n      <th>194264</th>\n      <td>12540602</td>\n      <td>2021</td>\n      <td>11-04-2021</td>\n      <td>MA Chidambaram Stadium, Chepauk, Chennai</td>\n      <td>2</td>\n      <td>5.6</td>\n      <td>Sunrisers Hyderabad</td>\n      <td>Kolkata Knight Riders</td>\n      <td>MK Pandey</td>\n      <td>JM Bairstow</td>\n      <td>...</td>\n      <td>0</td>\n      <td>NaN</td>\n      <td>NaN</td>\n      <td>NaN</td>\n      <td>NaN</td>\n      <td>NaN</td>\n      <td>0</td>\n      <td>NaN</td>\n      <td>NaN</td>\n      <td>NaN</td>\n    </tr>\n  </tbody>\n</table>\n<p>61307 rows × 22 columns</p>\n</div>"
     },
     "metadata": {},
     "execution_count": 34
    }
   ],
   "source": [
    "df[\"match_id\"] = 10 * df[\"match_id\"] + df[\"innings\"]\n",
    "df"
   ]
  },
  {
   "cell_type": "code",
   "execution_count": 35,
   "metadata": {},
   "outputs": [
    {
     "output_type": "execute_result",
     "data": {
      "text/plain": [
       "          runs_off_bat                 batting_team  \\\n",
       "match_id                                              \n",
       "3359821             51        Kolkata Knight Riders   \n",
       "3359822             19  Royal Challengers Bangalore   \n",
       "3359831             50          Chennai Super Kings   \n",
       "3359832             61              Kings XI Punjab   \n",
       "3359841             38             Rajasthan Royals   \n",
       "...                ...                          ...   \n",
       "12540582            38  Royal Challengers Bangalore   \n",
       "12540591            30          Chennai Super Kings   \n",
       "12540592            65               Delhi Capitals   \n",
       "12540601            50        Kolkata Knight Riders   \n",
       "12540602            35          Sunrisers Hyderabad   \n",
       "\n",
       "                         bowling_team  extras  wicket_type  \\\n",
       "match_id                                                     \n",
       "3359821   Royal Challengers Bangalore      10            1   \n",
       "3359822         Kolkata Knight Riders       7            4   \n",
       "3359831               Kings XI Punjab       3            1   \n",
       "3359832           Chennai Super Kings       2            1   \n",
       "3359841              Delhi Daredevils       2            2   \n",
       "...                               ...     ...          ...   \n",
       "12540582               Mumbai Indians       8            2   \n",
       "12540591               Delhi Capitals       3            2   \n",
       "12540592          Chennai Super Kings       0            0   \n",
       "12540601          Sunrisers Hyderabad       0            0   \n",
       "12540602        Kolkata Knight Riders       0            2   \n",
       "\n",
       "                                               venue  total_runs  \n",
       "match_id                                                          \n",
       "3359821                        M Chinnaswamy Stadium          61  \n",
       "3359822                        M Chinnaswamy Stadium          26  \n",
       "3359831   Punjab Cricket Association Stadium, Mohali          53  \n",
       "3359832   Punjab Cricket Association Stadium, Mohali          63  \n",
       "3359841                             Feroz Shah Kotla          40  \n",
       "...                                              ...         ...  \n",
       "12540582    MA Chidambaram Stadium, Chepauk, Chennai          46  \n",
       "12540591                    Wankhede Stadium, Mumbai          33  \n",
       "12540592                    Wankhede Stadium, Mumbai          65  \n",
       "12540601    MA Chidambaram Stadium, Chepauk, Chennai          50  \n",
       "12540602    MA Chidambaram Stadium, Chepauk, Chennai          35  \n",
       "\n",
       "[1664 rows x 7 columns]"
      ],
      "text/html": "<div>\n<style scoped>\n    .dataframe tbody tr th:only-of-type {\n        vertical-align: middle;\n    }\n\n    .dataframe tbody tr th {\n        vertical-align: top;\n    }\n\n    .dataframe thead th {\n        text-align: right;\n    }\n</style>\n<table border=\"1\" class=\"dataframe\">\n  <thead>\n    <tr style=\"text-align: right;\">\n      <th></th>\n      <th>runs_off_bat</th>\n      <th>batting_team</th>\n      <th>bowling_team</th>\n      <th>extras</th>\n      <th>wicket_type</th>\n      <th>venue</th>\n      <th>total_runs</th>\n    </tr>\n    <tr>\n      <th>match_id</th>\n      <th></th>\n      <th></th>\n      <th></th>\n      <th></th>\n      <th></th>\n      <th></th>\n      <th></th>\n    </tr>\n  </thead>\n  <tbody>\n    <tr>\n      <th>3359821</th>\n      <td>51</td>\n      <td>Kolkata Knight Riders</td>\n      <td>Royal Challengers Bangalore</td>\n      <td>10</td>\n      <td>1</td>\n      <td>M Chinnaswamy Stadium</td>\n      <td>61</td>\n    </tr>\n    <tr>\n      <th>3359822</th>\n      <td>19</td>\n      <td>Royal Challengers Bangalore</td>\n      <td>Kolkata Knight Riders</td>\n      <td>7</td>\n      <td>4</td>\n      <td>M Chinnaswamy Stadium</td>\n      <td>26</td>\n    </tr>\n    <tr>\n      <th>3359831</th>\n      <td>50</td>\n      <td>Chennai Super Kings</td>\n      <td>Kings XI Punjab</td>\n      <td>3</td>\n      <td>1</td>\n      <td>Punjab Cricket Association Stadium, Mohali</td>\n      <td>53</td>\n    </tr>\n    <tr>\n      <th>3359832</th>\n      <td>61</td>\n      <td>Kings XI Punjab</td>\n      <td>Chennai Super Kings</td>\n      <td>2</td>\n      <td>1</td>\n      <td>Punjab Cricket Association Stadium, Mohali</td>\n      <td>63</td>\n    </tr>\n    <tr>\n      <th>3359841</th>\n      <td>38</td>\n      <td>Rajasthan Royals</td>\n      <td>Delhi Daredevils</td>\n      <td>2</td>\n      <td>2</td>\n      <td>Feroz Shah Kotla</td>\n      <td>40</td>\n    </tr>\n    <tr>\n      <th>...</th>\n      <td>...</td>\n      <td>...</td>\n      <td>...</td>\n      <td>...</td>\n      <td>...</td>\n      <td>...</td>\n      <td>...</td>\n    </tr>\n    <tr>\n      <th>12540582</th>\n      <td>38</td>\n      <td>Royal Challengers Bangalore</td>\n      <td>Mumbai Indians</td>\n      <td>8</td>\n      <td>2</td>\n      <td>MA Chidambaram Stadium, Chepauk, Chennai</td>\n      <td>46</td>\n    </tr>\n    <tr>\n      <th>12540591</th>\n      <td>30</td>\n      <td>Chennai Super Kings</td>\n      <td>Delhi Capitals</td>\n      <td>3</td>\n      <td>2</td>\n      <td>Wankhede Stadium, Mumbai</td>\n      <td>33</td>\n    </tr>\n    <tr>\n      <th>12540592</th>\n      <td>65</td>\n      <td>Delhi Capitals</td>\n      <td>Chennai Super Kings</td>\n      <td>0</td>\n      <td>0</td>\n      <td>Wankhede Stadium, Mumbai</td>\n      <td>65</td>\n    </tr>\n    <tr>\n      <th>12540601</th>\n      <td>50</td>\n      <td>Kolkata Knight Riders</td>\n      <td>Sunrisers Hyderabad</td>\n      <td>0</td>\n      <td>0</td>\n      <td>MA Chidambaram Stadium, Chepauk, Chennai</td>\n      <td>50</td>\n    </tr>\n    <tr>\n      <th>12540602</th>\n      <td>35</td>\n      <td>Sunrisers Hyderabad</td>\n      <td>Kolkata Knight Riders</td>\n      <td>0</td>\n      <td>2</td>\n      <td>MA Chidambaram Stadium, Chepauk, Chennai</td>\n      <td>35</td>\n    </tr>\n  </tbody>\n</table>\n<p>1664 rows × 7 columns</p>\n</div>"
     },
     "metadata": {},
     "execution_count": 35
    }
   ],
   "source": [
    "aggregation_functions = {'runs_off_bat': 'sum', 'batting_team':'first', 'bowling_team':'first', 'extras':'sum', 'wicket_type': 'sum', 'venue': 'first'}\n",
    "df_new = df.groupby('match_id').aggregate(aggregation_functions)\n",
    "df_new[\"total_runs\"] = df_new[\"runs_off_bat\"] + df_new[\"extras\"]\n",
    "df_new"
   ]
  },
  {
   "cell_type": "code",
   "execution_count": 36,
   "metadata": {},
   "outputs": [
    {
     "output_type": "execute_result",
     "data": {
      "text/plain": [
       "          wicket_type  total_runs\n",
       "match_id                         \n",
       "3359821             1          61\n",
       "3359822             4          26\n",
       "3359831             1          53\n",
       "3359832             1          63\n",
       "3359841             2          40\n",
       "...               ...         ...\n",
       "12540582            2          46\n",
       "12540591            2          33\n",
       "12540592            0          65\n",
       "12540601            0          50\n",
       "12540602            2          35\n",
       "\n",
       "[1664 rows x 2 columns]"
      ],
      "text/html": "<div>\n<style scoped>\n    .dataframe tbody tr th:only-of-type {\n        vertical-align: middle;\n    }\n\n    .dataframe tbody tr th {\n        vertical-align: top;\n    }\n\n    .dataframe thead th {\n        text-align: right;\n    }\n</style>\n<table border=\"1\" class=\"dataframe\">\n  <thead>\n    <tr style=\"text-align: right;\">\n      <th></th>\n      <th>wicket_type</th>\n      <th>total_runs</th>\n    </tr>\n    <tr>\n      <th>match_id</th>\n      <th></th>\n      <th></th>\n    </tr>\n  </thead>\n  <tbody>\n    <tr>\n      <th>3359821</th>\n      <td>1</td>\n      <td>61</td>\n    </tr>\n    <tr>\n      <th>3359822</th>\n      <td>4</td>\n      <td>26</td>\n    </tr>\n    <tr>\n      <th>3359831</th>\n      <td>1</td>\n      <td>53</td>\n    </tr>\n    <tr>\n      <th>3359832</th>\n      <td>1</td>\n      <td>63</td>\n    </tr>\n    <tr>\n      <th>3359841</th>\n      <td>2</td>\n      <td>40</td>\n    </tr>\n    <tr>\n      <th>...</th>\n      <td>...</td>\n      <td>...</td>\n    </tr>\n    <tr>\n      <th>12540582</th>\n      <td>2</td>\n      <td>46</td>\n    </tr>\n    <tr>\n      <th>12540591</th>\n      <td>2</td>\n      <td>33</td>\n    </tr>\n    <tr>\n      <th>12540592</th>\n      <td>0</td>\n      <td>65</td>\n    </tr>\n    <tr>\n      <th>12540601</th>\n      <td>0</td>\n      <td>50</td>\n    </tr>\n    <tr>\n      <th>12540602</th>\n      <td>2</td>\n      <td>35</td>\n    </tr>\n  </tbody>\n</table>\n<p>1664 rows × 2 columns</p>\n</div>"
     },
     "metadata": {},
     "execution_count": 36
    }
   ],
   "source": [
    "\n",
    "df_ch = df_new.drop(columns =['runs_off_bat', 'batting_team', 'bowling_team', 'extras', 'venue'])\n",
    "df_ch"
   ]
  },
  {
   "cell_type": "code",
   "execution_count": 37,
   "metadata": {},
   "outputs": [
    {
     "output_type": "stream",
     "name": "stderr",
     "text": [
      "<ipython-input-37-5d1e0885a189>:2: UserWarning: Pandas doesn't allow columns to be created via a new attribute name - see https://pandas.pydata.org/pandas-docs/stable/indexing.html#attribute-access\n  df.res = pd.concat([df_ch, dummy], axis = 1)\n"
     ]
    },
    {
     "output_type": "execute_result",
     "data": {
      "text/plain": [
       "          wicket_type  total_runs  Chennai Super Kings  Deccan Chargers  \\\n",
       "match_id                                                                  \n",
       "3359821             1          61                    0                0   \n",
       "3359822             4          26                    0                0   \n",
       "3359831             1          53                    1                0   \n",
       "3359832             1          63                    0                0   \n",
       "3359841             2          40                    0                0   \n",
       "...               ...         ...                  ...              ...   \n",
       "12540582            2          46                    0                0   \n",
       "12540591            2          33                    1                0   \n",
       "12540592            0          65                    0                0   \n",
       "12540601            0          50                    0                0   \n",
       "12540602            2          35                    0                0   \n",
       "\n",
       "          Delhi Capitals  Delhi Daredevils  Gujarat Lions  Kings XI Punjab  \\\n",
       "match_id                                                                     \n",
       "3359821                0                 0              0                0   \n",
       "3359822                0                 0              0                0   \n",
       "3359831                0                 0              0                0   \n",
       "3359832                0                 0              0                1   \n",
       "3359841                0                 0              0                0   \n",
       "...                  ...               ...            ...              ...   \n",
       "12540582               0                 0              0                0   \n",
       "12540591               0                 0              0                0   \n",
       "12540592               1                 0              0                0   \n",
       "12540601               0                 0              0                0   \n",
       "12540602               0                 0              0                0   \n",
       "\n",
       "          Kochi Tuskers Kerala  Kolkata Knight Riders  Mumbai Indians  \\\n",
       "match_id                                                                \n",
       "3359821                      0                      1               0   \n",
       "3359822                      0                      0               0   \n",
       "3359831                      0                      0               0   \n",
       "3359832                      0                      0               0   \n",
       "3359841                      0                      0               0   \n",
       "...                        ...                    ...             ...   \n",
       "12540582                     0                      0               0   \n",
       "12540591                     0                      0               0   \n",
       "12540592                     0                      0               0   \n",
       "12540601                     0                      1               0   \n",
       "12540602                     0                      0               0   \n",
       "\n",
       "          Pune Warriors  Rajasthan Royals  Rising Pune Supergiant  \\\n",
       "match_id                                                            \n",
       "3359821               0                 0                       0   \n",
       "3359822               0                 0                       0   \n",
       "3359831               0                 0                       0   \n",
       "3359832               0                 0                       0   \n",
       "3359841               0                 1                       0   \n",
       "...                 ...               ...                     ...   \n",
       "12540582              0                 0                       0   \n",
       "12540591              0                 0                       0   \n",
       "12540592              0                 0                       0   \n",
       "12540601              0                 0                       0   \n",
       "12540602              0                 0                       0   \n",
       "\n",
       "          Rising Pune Supergiants  Royal Challengers Bangalore  \\\n",
       "match_id                                                         \n",
       "3359821                         0                            0   \n",
       "3359822                         0                            1   \n",
       "3359831                         0                            0   \n",
       "3359832                         0                            0   \n",
       "3359841                         0                            0   \n",
       "...                           ...                          ...   \n",
       "12540582                        0                            1   \n",
       "12540591                        0                            0   \n",
       "12540592                        0                            0   \n",
       "12540601                        0                            0   \n",
       "12540602                        0                            0   \n",
       "\n",
       "          Sunrisers Hyderabad  \n",
       "match_id                       \n",
       "3359821                     0  \n",
       "3359822                     0  \n",
       "3359831                     0  \n",
       "3359832                     0  \n",
       "3359841                     0  \n",
       "...                       ...  \n",
       "12540582                    0  \n",
       "12540591                    0  \n",
       "12540592                    0  \n",
       "12540601                    0  \n",
       "12540602                    1  \n",
       "\n",
       "[1664 rows x 17 columns]"
      ],
      "text/html": "<div>\n<style scoped>\n    .dataframe tbody tr th:only-of-type {\n        vertical-align: middle;\n    }\n\n    .dataframe tbody tr th {\n        vertical-align: top;\n    }\n\n    .dataframe thead th {\n        text-align: right;\n    }\n</style>\n<table border=\"1\" class=\"dataframe\">\n  <thead>\n    <tr style=\"text-align: right;\">\n      <th></th>\n      <th>wicket_type</th>\n      <th>total_runs</th>\n      <th>Chennai Super Kings</th>\n      <th>Deccan Chargers</th>\n      <th>Delhi Capitals</th>\n      <th>Delhi Daredevils</th>\n      <th>Gujarat Lions</th>\n      <th>Kings XI Punjab</th>\n      <th>Kochi Tuskers Kerala</th>\n      <th>Kolkata Knight Riders</th>\n      <th>Mumbai Indians</th>\n      <th>Pune Warriors</th>\n      <th>Rajasthan Royals</th>\n      <th>Rising Pune Supergiant</th>\n      <th>Rising Pune Supergiants</th>\n      <th>Royal Challengers Bangalore</th>\n      <th>Sunrisers Hyderabad</th>\n    </tr>\n    <tr>\n      <th>match_id</th>\n      <th></th>\n      <th></th>\n      <th></th>\n      <th></th>\n      <th></th>\n      <th></th>\n      <th></th>\n      <th></th>\n      <th></th>\n      <th></th>\n      <th></th>\n      <th></th>\n      <th></th>\n      <th></th>\n      <th></th>\n      <th></th>\n      <th></th>\n    </tr>\n  </thead>\n  <tbody>\n    <tr>\n      <th>3359821</th>\n      <td>1</td>\n      <td>61</td>\n      <td>0</td>\n      <td>0</td>\n      <td>0</td>\n      <td>0</td>\n      <td>0</td>\n      <td>0</td>\n      <td>0</td>\n      <td>1</td>\n      <td>0</td>\n      <td>0</td>\n      <td>0</td>\n      <td>0</td>\n      <td>0</td>\n      <td>0</td>\n      <td>0</td>\n    </tr>\n    <tr>\n      <th>3359822</th>\n      <td>4</td>\n      <td>26</td>\n      <td>0</td>\n      <td>0</td>\n      <td>0</td>\n      <td>0</td>\n      <td>0</td>\n      <td>0</td>\n      <td>0</td>\n      <td>0</td>\n      <td>0</td>\n      <td>0</td>\n      <td>0</td>\n      <td>0</td>\n      <td>0</td>\n      <td>1</td>\n      <td>0</td>\n    </tr>\n    <tr>\n      <th>3359831</th>\n      <td>1</td>\n      <td>53</td>\n      <td>1</td>\n      <td>0</td>\n      <td>0</td>\n      <td>0</td>\n      <td>0</td>\n      <td>0</td>\n      <td>0</td>\n      <td>0</td>\n      <td>0</td>\n      <td>0</td>\n      <td>0</td>\n      <td>0</td>\n      <td>0</td>\n      <td>0</td>\n      <td>0</td>\n    </tr>\n    <tr>\n      <th>3359832</th>\n      <td>1</td>\n      <td>63</td>\n      <td>0</td>\n      <td>0</td>\n      <td>0</td>\n      <td>0</td>\n      <td>0</td>\n      <td>1</td>\n      <td>0</td>\n      <td>0</td>\n      <td>0</td>\n      <td>0</td>\n      <td>0</td>\n      <td>0</td>\n      <td>0</td>\n      <td>0</td>\n      <td>0</td>\n    </tr>\n    <tr>\n      <th>3359841</th>\n      <td>2</td>\n      <td>40</td>\n      <td>0</td>\n      <td>0</td>\n      <td>0</td>\n      <td>0</td>\n      <td>0</td>\n      <td>0</td>\n      <td>0</td>\n      <td>0</td>\n      <td>0</td>\n      <td>0</td>\n      <td>1</td>\n      <td>0</td>\n      <td>0</td>\n      <td>0</td>\n      <td>0</td>\n    </tr>\n    <tr>\n      <th>...</th>\n      <td>...</td>\n      <td>...</td>\n      <td>...</td>\n      <td>...</td>\n      <td>...</td>\n      <td>...</td>\n      <td>...</td>\n      <td>...</td>\n      <td>...</td>\n      <td>...</td>\n      <td>...</td>\n      <td>...</td>\n      <td>...</td>\n      <td>...</td>\n      <td>...</td>\n      <td>...</td>\n      <td>...</td>\n    </tr>\n    <tr>\n      <th>12540582</th>\n      <td>2</td>\n      <td>46</td>\n      <td>0</td>\n      <td>0</td>\n      <td>0</td>\n      <td>0</td>\n      <td>0</td>\n      <td>0</td>\n      <td>0</td>\n      <td>0</td>\n      <td>0</td>\n      <td>0</td>\n      <td>0</td>\n      <td>0</td>\n      <td>0</td>\n      <td>1</td>\n      <td>0</td>\n    </tr>\n    <tr>\n      <th>12540591</th>\n      <td>2</td>\n      <td>33</td>\n      <td>1</td>\n      <td>0</td>\n      <td>0</td>\n      <td>0</td>\n      <td>0</td>\n      <td>0</td>\n      <td>0</td>\n      <td>0</td>\n      <td>0</td>\n      <td>0</td>\n      <td>0</td>\n      <td>0</td>\n      <td>0</td>\n      <td>0</td>\n      <td>0</td>\n    </tr>\n    <tr>\n      <th>12540592</th>\n      <td>0</td>\n      <td>65</td>\n      <td>0</td>\n      <td>0</td>\n      <td>1</td>\n      <td>0</td>\n      <td>0</td>\n      <td>0</td>\n      <td>0</td>\n      <td>0</td>\n      <td>0</td>\n      <td>0</td>\n      <td>0</td>\n      <td>0</td>\n      <td>0</td>\n      <td>0</td>\n      <td>0</td>\n    </tr>\n    <tr>\n      <th>12540601</th>\n      <td>0</td>\n      <td>50</td>\n      <td>0</td>\n      <td>0</td>\n      <td>0</td>\n      <td>0</td>\n      <td>0</td>\n      <td>0</td>\n      <td>0</td>\n      <td>1</td>\n      <td>0</td>\n      <td>0</td>\n      <td>0</td>\n      <td>0</td>\n      <td>0</td>\n      <td>0</td>\n      <td>0</td>\n    </tr>\n    <tr>\n      <th>12540602</th>\n      <td>2</td>\n      <td>35</td>\n      <td>0</td>\n      <td>0</td>\n      <td>0</td>\n      <td>0</td>\n      <td>0</td>\n      <td>0</td>\n      <td>0</td>\n      <td>0</td>\n      <td>0</td>\n      <td>0</td>\n      <td>0</td>\n      <td>0</td>\n      <td>0</td>\n      <td>0</td>\n      <td>1</td>\n    </tr>\n  </tbody>\n</table>\n<p>1664 rows × 17 columns</p>\n</div>"
     },
     "metadata": {},
     "execution_count": 37
    }
   ],
   "source": [
    "dummy = pd.get_dummies(df_new['batting_team'])\n",
    "df.res = pd.concat([df_ch, dummy], axis = 1)\n",
    "df.res"
   ]
  },
  {
   "cell_type": "code",
   "execution_count": null,
   "metadata": {},
   "outputs": [],
   "source": []
  }
 ]
}